{
 "cells": [
  {
   "cell_type": "markdown",
   "metadata": {},
   "source": [
    "# Corpus compilation\n",
    "- text type and genres\n",
    "- characteristics according to task"
   ]
  },
  {
   "cell_type": "code",
   "execution_count": 13,
   "metadata": {},
   "outputs": [],
   "source": [
    "import urllib3\n",
    "import re\n",
    "from bs4 import BeautifulSoup\n",
    "import os\n",
    "import justext"
   ]
  },
  {
   "cell_type": "code",
   "execution_count": 14,
   "metadata": {
    "scrolled": false
   },
   "outputs": [],
   "source": [
    "urllib3.disable_warnings(urllib3.exceptions.InsecureRequestWarning)\n",
    "user_agent = {'user-agent': 'Mozilla/5.0 (Windows NT 6.1; Win64; x64)'}\n",
    "\n",
    "http = urllib3.PoolManager(10, headers=user_agent)\n",
    "\n",
    "\n",
    "class Crawler:\n",
    "    \n",
    "    def __init__(self, corpus_path, max_files, seed_url, url_pattern):\n",
    "        self.corpus_path = corpus_path\n",
    "        self.max_files = max_files\n",
    "        self.seed_url = seed_url\n",
    "        self.url_pattern = url_pattern\n",
    "        self.visited_links = {}\n",
    "        self.to_be_visited = []\n",
    "        \n",
    "        if not os.path.exists(self.corpus_path):\n",
    "            os.makedirs(self.corpus_path)\n",
    "        \n",
    "    def crawl(self):\n",
    "        first_urls = self.get_page(self.seed_url)\n",
    "        self.add_links(first_urls)\n",
    "        next_link = self.get_next_link()\n",
    "        \n",
    "        qtd_urls = len(first_urls)\n",
    "        menor_qtd = qtd_urls if qtd_urls < self.max_files else self.max_files\n",
    "        \n",
    "        file_counter = 1\n",
    "        while next_link and file_counter < menor_qtd:\n",
    "            links = self.get_page(next_link)\n",
    "            self.add_links(links)\n",
    "            next_link = self.get_next_link()\n",
    "            file_counter += 1\n",
    "    \n",
    "    def get_page(self, url):\n",
    "        print(\"getting page {}\".format(url))\n",
    "        response = http.request('GET', url)\n",
    "\n",
    "        # store text content\n",
    "        paragraphs = justext.justext(response.data, justext.get_stoplist(\"Portuguese\"))\n",
    "        with open(\"{}/{}.txt\".format(self.corpus_path, url.replace(\".\", \"_\").replace(\"/\",\"-\")), \"w\") as output_file:\n",
    "            for paragraph in paragraphs:\n",
    "                if not paragraph.is_boilerplate:\n",
    "                    output_file.write(paragraph.text)\n",
    "        \n",
    "        # get links\n",
    "        soup = BeautifulSoup(response.data, 'html.parser')\n",
    "        links = [self.seed_url + link.get('href') for link in soup.findAll('a', attrs={'href': re.compile(self.url_pattern)})]\n",
    "\n",
    "        return links\n",
    "\n",
    "    def add_links(self, links):\n",
    "        links = list(set(links))\n",
    "        self.to_be_visited.extend([link for link in links if link not in self.visited_links])\n",
    "\n",
    "    def get_next_link(self):\n",
    "        next_link = None\n",
    "        if(self.to_be_visited):\n",
    "            next_link = self.to_be_visited.pop(0)\n",
    "            self.visited_links[next_link] = None\n",
    "        return next_link"
   ]
  },
  {
   "cell_type": "code",
   "execution_count": 19,
   "metadata": {
    "scrolled": true
   },
   "outputs": [],
   "source": [
    "crawler_tecnologia = Crawler(\"data/corpora/tecnologia2\", 50, \"https://www.inovacaotecnologica.com.br/\", \"^noticias/noticia\\.php\\?artigo=.*\")\n",
    "crawler_politica = Crawler(\"data/corpora/politica2\", 50, \"https://www.mises.org.br/\",\n",
    "                           \"^Article\\.aspx\\?id=\\d+\")"
   ]
  },
  {
   "cell_type": "code",
   "execution_count": 20,
   "metadata": {
    "scrolled": true
   },
   "outputs": [
    {
     "name": "stdout",
     "output_type": "stream",
     "text": [
      "getting page https://www.mises.org.br/\n",
      "getting page https://www.mises.org.br/Article.aspx?id=2952#ac233162\n",
      "getting page https://www.mises.org.br/Article.aspx?id=2985\n",
      "getting page https://www.mises.org.br/Article.aspx?id=2063\n",
      "getting page https://www.mises.org.br/Article.aspx?id=2836#ac233184\n",
      "getting page https://www.mises.org.br/Article.aspx?id=3010#ac233166\n",
      "getting page https://www.mises.org.br/Article.aspx?id=2401\n",
      "getting page https://www.mises.org.br/Article.aspx?id=459\n",
      "getting page https://www.mises.org.br/Article.aspx?id=3010#ac233165\n",
      "getting page https://www.mises.org.br/Article.aspx?id=1371\n",
      "getting page https://www.mises.org.br/Article.aspx?id=2939\n",
      "getting page https://www.mises.org.br/Article.aspx?id=98\n",
      "getting page https://www.mises.org.br/Article.aspx?id=2836\n",
      "getting page https://www.mises.org.br/Article.aspx?id=3010#ac233179\n",
      "getting page https://www.mises.org.br/Article.aspx?id=485\n",
      "getting page https://www.mises.org.br/Article.aspx?id=2723\n",
      "getting page https://www.mises.org.br/Article.aspx?id=3010#ac233168\n",
      "getting page https://www.mises.org.br/Article.aspx?id=3010#ac233178\n",
      "getting page https://www.mises.org.br/Article.aspx?id=2862\n",
      "getting page https://www.mises.org.br/Article.aspx?id=2594\n",
      "getting page https://www.mises.org.br/Article.aspx?id=2866\n",
      "getting page https://www.mises.org.br/Article.aspx?id=2984#ac233180\n",
      "getting page https://www.mises.org.br/Article.aspx?id=2862#ac233174\n",
      "getting page https://www.mises.org.br/Article.aspx?id=2138\n",
      "getting page https://www.mises.org.br/Article.aspx?id=3003#ac233171\n",
      "getting page https://www.mises.org.br/Article.aspx?id=3010#ac233169\n",
      "getting page https://www.mises.org.br/Article.aspx?id=3010\n",
      "getting page https://www.mises.org.br/Article.aspx?id=2648\n",
      "getting page https://www.mises.org.br/Article.aspx?id=3010#ac233164\n",
      "getting page https://www.mises.org.br/Article.aspx?id=2046\n",
      "getting page https://www.mises.org.br/Article.aspx?id=2984#ac233185\n",
      "getting page https://www.mises.org.br/Article.aspx?id=3010#ac233181\n",
      "getting page https://www.mises.org.br/Article.aspx?id=3010#ac233175\n",
      "getting page https://www.mises.org.br/Article.aspx?id=2952\n",
      "getting page https://www.mises.org.br/Article.aspx?id=3003#ac233172\n",
      "getting page https://www.mises.org.br/Article.aspx?id=2984#ac233183\n",
      "getting page https://www.mises.org.br/Article.aspx?id=3010#ac233167\n",
      "getting page https://www.mises.org.br/Article.aspx?id=2828\n",
      "getting page https://www.mises.org.br/Article.aspx?id=2595\n",
      "getting page https://www.mises.org.br/Article.aspx?id=2860\n",
      "getting page https://www.mises.org.br/Article.aspx?id=3010#ac233173\n",
      "getting page https://www.mises.org.br/Article.aspx?id=2852#ac233182\n",
      "getting page https://www.mises.org.br/Article.aspx?id=2040\n",
      "getting page https://www.mises.org.br/Article.aspx?id=2167\n",
      "getting page https://www.mises.org.br/Article.aspx?id=2984\n",
      "getting page https://www.mises.org.br/Article.aspx?id=3009\n",
      "getting page https://www.mises.org.br/Article.aspx?id=332\n",
      "getting page https://www.mises.org.br/Article.aspx?id=1651\n",
      "getting page https://www.mises.org.br/Article.aspx?id=1487\n",
      "getting page https://www.mises.org.br/Article.aspx?id=2985\n"
     ]
    }
   ],
   "source": [
    "crawler_politica.crawl()\n",
    "#crawler_tecnologia.crawl()"
   ]
  },
  {
   "cell_type": "code",
   "execution_count": null,
   "metadata": {},
   "outputs": [],
   "source": []
  },
  {
   "cell_type": "code",
   "execution_count": null,
   "metadata": {},
   "outputs": [],
   "source": []
  }
 ],
 "metadata": {
  "kernelspec": {
   "display_name": "Python 3",
   "language": "python",
   "name": "python3"
  },
  "language_info": {
   "codemirror_mode": {
    "name": "ipython",
    "version": 3
   },
   "file_extension": ".py",
   "mimetype": "text/x-python",
   "name": "python",
   "nbconvert_exporter": "python",
   "pygments_lexer": "ipython3",
   "version": "3.6.7"
  }
 },
 "nbformat": 4,
 "nbformat_minor": 2
}
