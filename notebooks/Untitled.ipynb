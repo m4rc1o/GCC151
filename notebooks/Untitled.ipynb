{
 "cells": [
  {
   "cell_type": "code",
   "execution_count": 3,
   "metadata": {},
   "outputs": [],
   "source": [
    "#Importando ao córpus\n",
    "from nltk.corpus import mac_morpho\n",
    "\n",
    "#Carregando sentenças etiquetadas\n",
    "tagged_sents = mac_morpho.tagged_sents()"
   ]
  },
  {
   "cell_type": "code",
   "execution_count": 13,
   "metadata": {},
   "outputs": [],
   "source": [
    "#Descobrindo a tag mais frequente\n",
    "tags = [tag for (word, tag) in mac_morpho.tagged_words()]"
   ]
  },
  {
   "cell_type": "code",
   "execution_count": 14,
   "metadata": {},
   "outputs": [
    {
     "data": {
      "text/plain": [
       "'N'"
      ]
     },
     "execution_count": 14,
     "metadata": {},
     "output_type": "execute_result"
    }
   ],
   "source": [
    "import nltk\n",
    "nltk.FreqDist(tags).max()"
   ]
  },
  {
   "cell_type": "code",
   "execution_count": 2,
   "metadata": {},
   "outputs": [
    {
     "data": {
      "text/plain": [
       "['Any',\n",
       " 'suficient',\n",
       " 'advanced',\n",
       " 'technology',\n",
       " 'is',\n",
       " 'indistinguishible',\n",
       " 'from',\n",
       " 'magic',\n",
       " '.']"
      ]
     },
     "execution_count": 2,
     "metadata": {},
     "output_type": "execute_result"
    }
   ],
   "source": [
    "from utils.lexical import normalizador\n",
    "normalizer = normalizador.Normalizador()\n",
    "\n",
    "sent = \"Any suficient advanced technology is indistinguishible from magic.\"\n",
    "\n",
    "normalizer.tokenize_words(sent)"
   ]
  }
 ],
 "metadata": {
  "kernelspec": {
   "display_name": "Python 3",
   "language": "python",
   "name": "python3"
  },
  "language_info": {
   "codemirror_mode": {
    "name": "ipython",
    "version": 3
   },
   "file_extension": ".py",
   "mimetype": "text/x-python",
   "name": "python",
   "nbconvert_exporter": "python",
   "pygments_lexer": "ipython3",
   "version": "3.6.7"
  }
 },
 "nbformat": 4,
 "nbformat_minor": 2
}
