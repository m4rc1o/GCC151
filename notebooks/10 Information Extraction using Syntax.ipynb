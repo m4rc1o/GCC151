{
 "cells": [
  {
   "cell_type": "code",
   "execution_count": 4,
   "metadata": {},
   "outputs": [
    {
     "name": "stderr",
     "output_type": "stream",
     "text": [
      "[nltk_data] Downloading package punkt to /home/aluno/nltk_data...\n",
      "[nltk_data]   Unzipping tokenizers/punkt.zip.\n"
     ]
    },
    {
     "data": {
      "text/plain": [
       "True"
      ]
     },
     "execution_count": 4,
     "metadata": {},
     "output_type": "execute_result"
    }
   ],
   "source": [
    "import spacy\n",
    "from utils.lexical import normalizador\n",
    "import nltk\n",
    "import os\n",
    "nltk.download('punkt')"
   ]
  },
  {
   "cell_type": "code",
   "execution_count": 9,
   "metadata": {},
   "outputs": [
    {
     "name": "stderr",
     "output_type": "stream",
     "text": [
      "[nltk_data] Downloading package stopwords to /home/aluno/nltk_data...\n",
      "[nltk_data]   Package stopwords is already up-to-date!\n"
     ]
    },
    {
     "data": {
      "text/plain": [
       "True"
      ]
     },
     "execution_count": 9,
     "metadata": {},
     "output_type": "execute_result"
    }
   ],
   "source": [
    "#nltk.download('rslp')\n",
    "nltk.download('stopwords')"
   ]
  },
  {
   "cell_type": "markdown",
   "metadata": {},
   "source": [
    "# Load corpora data into memory"
   ]
  },
  {
   "cell_type": "code",
   "execution_count": 16,
   "metadata": {},
   "outputs": [],
   "source": [
    "corpora_path = '../data/corpora/'\n",
    "corpora_dirs = os.listdir(corpora_path)\n",
    "normalizer = normalizador.Normalizador()\n",
    "\n",
    "corpora = {}\n",
    "for corpus in corpora_dirs:\n",
    "    files = [os.path.join(corpora_path + corpus, f)\n",
    "             for f in os.listdir(corpora_path + corpus)\n",
    "             if os.path.isfile(os.path.join(corpora_path + corpus, f))]\n",
    "    corpora[corpus] = {'raw' : [],'s_tokenized' : []}\n",
    "    for file in files:\n",
    "        with open(file, 'r', encoding='utf-8') as txt_file:\n",
    "            text = txt_file.readlines()\n",
    "            text = text[0]\n",
    "            #corpora[corpus]['raw'].extend(text)\n",
    "            corpora[corpus]['s_tokenized'].extend(normalizer.tokenize_sentences(text))"
   ]
  },
  {
   "cell_type": "code",
   "execution_count": 20,
   "metadata": {},
   "outputs": [
    {
     "data": {
      "text/plain": [
       "['Pesquisar este blog Celtics vencem fora de casa e continuam sonhando com a liderança do Leste Nesta quinta-feira, o Boston Celtics teve uma boa apresentação diante do Phoenix Suns.',\n",
       " 'Jogando fora de casa, os maiores campeões da NBA conseguiram uma importante vitória por 102 a 94 e continuam na briga pela primeira colocação da Conferência Leste.',\n",
       " 'A equipe está atrás apenas do Toronto Raptors, que perdeu no último domingo para o Los Angeles Clippers.',\n",
       " 'O grande destaque da partida foi o ala Jayson Tatum, que anotou 23 pontos e seis rebotes.',\n",
       " 'Outro jogador dos Celtics que também teve boa atuação foi o ala Marcus Morris, que conseguiu 20 pontos, três rebotes e uma assistência.',\n",
       " 'Já Al Horford ficou muito perto de anotar um triplo duplo, já que teve 19 pontos, nove rebotes e sete assistências.',\n",
       " 'Pelo lado dos Suns, o melhor em quadra foi o ala-armador Josh Jackson, que teve 23 pontos, seis rebotes e duas assistências.',\n",
       " 'Mesmo sem Kyrie Irving, principal jogador da franquia, os Celtics conseguiram ser dominantes por praticamente toda a partida e não deram chance para os donos da casa.',\n",
       " 'O primeiro quarto foi marcado pela qualidade ofensiva da franquia de Boston, que marcou 31 pontos no começo do jogo e deu boa vantagem para o time durante o restante do jogo.',\n",
       " 'Apesar de no segundo quarto a equipe cair de produção e deixar os Suns crescerem na partida, os Celtics voltaram com tudo no começo do segundo tempo e voltaram a abrir boa vantagem, desta vez de 12 pontos.',\n",
       " 'O último quarto foi o mais equilibrado de todos, porém já era tarde demais para o Phoenix Suns tentar reverter a situação do jogo.',\n",
       " 'Vitória importante dos Celtics que continuam na briga pela primeira posição do Leste.',\n",
       " 'A tendência é que ele necessite de mais uma semana de tratamento.',\n",
       " 'Assim, perderia um eventual primeiro jogo de semifinal.',\n",
       " 'O meia não atuou nos últimos três jogos: contra o Botafogo, em Ribeirão Preto, diante do Deportivo Lara, da Venezuela, pela Libertadores, e no primeiro encontro com o Bragantino.',\n",
       " 'Além de Jadson, Fagner também é ausência, já que está com a seleção brasileira.',\n",
       " 'Por outro lado, o atacante Matheus Matias deve ser relacionado pela primeira vez nesta quinta.',\n",
       " 'O duelo vale vaga na semifinal do Paulistão.',\n",
       " 'Na ida, domingo, no Pacaembu, o Braga venceu por 3 a 2.',\n",
       " 'Para se classificar, o Timão precisa ganhar por dois ou mais gols de diferença.',\n",
       " 'Se a equipe da casa vencer pela vantagem mínima, a classificação será decidida nos pênaltis.',\n",
       " 'Pesquisar este blog Fred rompe o ligamento cruzado do joelho e vê restante da temporada ameaçado Neste domingo, no Mineirão, o Cruzeiro venceu o Tupi, por 2 a 1, e se classificou à final do Campeonato Mineiro.',\n",
       " 'Mas o bom resultado e a vaga na decisão dividiram espaço com uma notícia muito ruim.',\n",
       " 'O centroavante Fred, camisa 9 da Raposa, se machucou aos 27 minutos do primeiro tempo e foi substituído por Raniel sentindo muitas dores e com muita dificuldade de pisar no chão.',\n",
       " 'A preocupação era evidente e justificável.',\n",
       " 'Fred rompeu o ligamento cruzado anterior do joelho direito (LCA).',\n",
       " 'Uma entrevista coletiva do médico Sérgio Campolina chegou a ser anunciada para depois do jogo, ainda no Mineirão, mas foi cancelada.',\n",
       " 'O clube informou que a palavra oficial será apenas nesta segunda-feira.',\n",
       " 'O GloboEsporte.com apurou, com fontes ligadas ao jogador, que a lesão foi confirmada.',\n",
       " 'O tratamento para esse tipo de problema é cirúrgico.',\n",
       " 'Mano Menezes, também sem cravar a lesão, lamentou, mas falou pouco e valorizou a força do elenco.',\n",
       " '- Coisas do futebol.',\n",
       " 'A gente tem que estar preparado para tudo.',\n",
       " 'Os treinadores valorizam os elencos não é à toa.',\n",
       " 'À medidia que você tem um elenco de qualidade, você passa por perdas, ganhos e tem que continuar.',\n",
       " '- Vamos esperar amanhã (segunda), que é sempre o caminho natural pra se posicionar objetivamente sobre a lesão do Fred.',\n",
       " 'Ele vai passar por exames, vamos esperar isso hoje, embora sempre tenha uma preocupação quando acontece com um jogador.',\n",
       " 'Vamos comemorar nossa vitória, que é um fator importantíssimo para o torcedor - completou o treinador.',\n",
       " 'Sem sequência No dia 27 de fevereiro, no duelo com o Racing, Fred sofreu um estiramento na panturrilha direita, uma lesão considerada leve pelo clube.',\n",
       " 'A contusão fez com que o atacante desfalcasse o Cruzeiro em cinco jogos.',\n",
       " 'Quase um mês depois, ele retornou ao time.',\n",
       " 'Porém, se machucou novamente.',\n",
       " 'Desde que estreou, diante do próprio Tupi, pela primeira rodada do Campeonato Mineiro, Fred marcou apenas um gol (na vitória por 2 a 1 sobre o Tombense, fora de casa).',\n",
       " 'Esse é o pior início de ano da carreira do jogador, em termos de bola da rede.',\n",
       " 'Até aqui, ele disputou nove jogos - todos como titular.',\n",
       " 'Na ausência do camisa 9, tudo indica que, pelo menos neste primeiro momento, Raniel assuma a vaga de titular no ataque celeste.',\n",
       " 'O garoto teve boas atuações recentemente e está com moral com o treinador e a torcida.',\n",
       " 'Neste domingo, no Mineirão, ele foi muito aplaudido quando entrou em campo.',\n",
       " 'O que dizem os companheiros Ainda na zona mista do Mineirão, os jogadores do Cruzeiro comentaram a lesão do centroavante.',\n",
       " 'Houve uma lamentação geral, naturalmente, e muita demonstração de apoio ao camisa 9.',\n",
       " '- Triste.',\n",
       " 'Dia de classificação, um domingo bonito, estádio lotado.',\n",
       " 'Aí acontece um problema gigantesco desse com o \"Don\".',\n",
       " 'Parceirão, irmão.',\n",
       " 'A gente torce para que seja tudo muito rápido com ele.',\n",
       " 'Ele é um cara muito profissional, trabalhador.',\n",
       " 'A gente vai estar aqui para dar todo o apoio, como sempre foi, desde que ele chegou.',\n",
       " 'Pode ter certeza que a gente vai na casa dele, vai estar com ele na recuperação.',\n",
       " 'Mesmo fora de campo ele é importantíssimo para a gente.',\n",
       " 'É um cara rodado, campeão, com um baita currículo.',\n",
       " 'Todo mundo precisa do Fred - disse o amigo Thiago Neves.',\n",
       " '- A palavra é de força, de união.',\n",
       " 'Ele pode contar com todos os atletas, comissão e funcionários do Cruzeiro para que ele possa sentir afeto e sentir que todos vão estar do lado dele para essa recuperação, independentemente do tempo.',\n",
       " 'A gente vai estar dia após dia junto, dando força.',\n",
       " 'Fé em Deus ele tem bastante para reverter isso e servir como mais uma motivação para que ele volte o mais rápido possível e, dentro da carreira vitoriosa que ele tem, alcance os objetivos que ele tem traçado para a carreira - disse o goleiro Fábio.',\n",
       " '- Situação delicada.',\n",
       " 'O Fred chegou há pouco tempo, mas é um líder do elenco, um cara querido pelo grupo inteiro.',\n",
       " 'Foi uma notícia ruim, o ponto negativo de hoje.',\n",
       " 'Mas ele pode esperar que a gente vai fazer de tudo para dar o título para ele.',\n",
       " 'Vamos dar toda a força para a recuperação dele - comentou Ezequiel.',\n",
       " '- Que ele se recupere logo e possa voltar o mais rápido possível.',\n",
       " 'Ele é um cara sensacional fora de campo.',\n",
       " 'Estamos aqui para dar força a ele - completou Rafinha.',\n",
       " 'Pesquisar este blog Mogi vence o Regatas e garante vaga inédita na decisão da Liga das Américas Pela primeira vez em sua história, o Mogi das Cruzes vai disputar a final da Liga das Américas de basquete.',\n",
       " 'Na noite deste sábado, a equipe brasileira venceu os argentinos do Regatas Corrientes por 78 a 74, no ginásio Roberto Pando, em Buenos Aires, e garantiu a classificação inédita para a decisão do principal torneio do continente, que será neste domingo.',\n",
       " 'O adversário do Mogi na briga pelo título vai sair do duelo entre o anfitrião San Lorenzo e o Estudiantes Concordia, ambos da Argentina.',\n",
       " 'Esse jogo acontece neste sábado, às 21h30, com transmissão ao vivo do SporTV.com.',\n",
       " 'Depois de um início devagar, o Mogi teve grande atuação no segundo quarto para passar na frente no placar.',\n",
       " 'O time paulista se manteve em vantagem durante praticamente todo o segundo tempo e segurou as reações do Regatas para sair de quadra com o triunfo.',\n",
       " 'Shamell foi o cestinha da partida, com 19 pontos, mas outros três jogadores do Mogi se destacaram com um duplo-duplo cada: Tyrone, com 18 pontos e 11 rebotes, Larry Taylor, com 13 pontos e dez rebotes, e Caio Torres, com dez pontos e dez rebotes.',\n",
       " 'Pelo lado do Regatas, Brandon Thomas foi o principal pontuador, com 17.',\n",
       " 'Regatas começa melhor, mas Mogi consegue reação O Regatas começou com bom aproveitamento no ataque e abriu 9 a 2 nos primeiros minutos.',\n",
       " 'Perto da metade do primeiro quarto, a equipe argentina vencia por 14 a 6, e o técnico do Mogi, Guerrinha, pediu o primeiro tempo do jogo.',\n",
       " 'A equipe brasileira conseguiu reagir e, nos minutos seguintes, cortou a diferença para apenas quatro pontos (16 a 12).',\n",
       " 'Então foi a vez de o treinador do Regatas pedir tempo.',\n",
       " 'O time argentino voltou a ser superior depois dessa parada e venceu o período inicial por 21 a 14.',\n",
       " 'O Mogi voltou para o segundo quarto com uma postura bem diferente.',\n",
       " 'Bem superior ao adversário, o time de Guerrinha passou na frente no placar ao fazer oito pontos seguidos.',\n",
       " 'Ao contrário do início, o Regatas ia mal no ataque e só converteu seus primeiros pontos após três minutos.',\n",
       " 'O Regatas até chegou a empatar a partida novamente, mas, melhor nos rebotes e com a mão mais calibrada, o Mogi venceu a parcial por 28 a 14 e foi para o intervalo ganhando por 42 a 35.',\n",
       " 'O Mogi se manteve ligado no início do segundo tempo e abriu nove pontos de vantagem, a maior do jogo até então, após uma cesta de Shamell.',\n",
       " 'Depois de um tempo pedido pelo técnico Gabriel Piccato, o Regatas reagiu e cortou a diferença para apenas quatro pontos.',\n",
       " 'Após mais uma deslanchada do Mogi, os argentinos voltaram a encostar no placar novamente.',\n",
       " 'Porém, na reta final do terceiro quarto, os mogianos retomaram o controle do jogo, principalmente com a boa participação de Tyrone, e foram para o último quarto ganhando por 60 a 50.',\n",
       " 'Apesar da diferença considerável no placar, o Regatas não se entregou e diminuiu sua desvantagem para cinco pontos após quatro minutos jogados.',\n",
       " 'O time argentino seguiu bem no último quarto, e, a quatro minutos do fim, o Mogi vencia por \"apenas\" 68 a 64.',\n",
       " 'Com isso, Guerrinha pediu tempo.',\n",
       " 'A reta final da partida, então, foi bem tensa, com o Mogi tentando se desgarrar, mas o Regatas sempre próximo no placar.',\n",
       " 'Restando dois minutos, Quinteros converteu uma bola de três e deixou o Regatas apenas um ponto atrás: 73 a 72.',\n",
       " 'Faltando 37 segundos para o fim, a vantagem do Mogi era de dois pontos.']"
      ]
     },
     "execution_count": 20,
     "metadata": {},
     "output_type": "execute_result"
    }
   ],
   "source": [
    "corpora['esporte']['s_tokenized'][0:100]"
   ]
  },
  {
   "cell_type": "code",
   "execution_count": 2,
   "metadata": {},
   "outputs": [],
   "source": [
    "def get_nps(doc):\n",
    "    nchunks = []\n",
    "    nheads = []\n",
    "    for token in doc:\n",
    "        if token.dep_ in ['nsubj', 'obj', 'iobj']:\n",
    "            nheads.append(token)\n",
    "    \n",
    "    for token in nheads:\n",
    "        nchunk = [(token)]\n",
    "        for word in token.subtree:\n",
    "             if word.pos_ in ['DET', 'NOUN']:\n",
    "                nchunk.append(word)\n",
    "        nchunks.append(nchunk)\n",
    "    return nchunks\n",
    "\n",
    "def get_nmodifiers(head, doc):\n",
    "    pass"
   ]
  },
  {
   "cell_type": "code",
   "execution_count": 5,
   "metadata": {},
   "outputs": [
    {
     "name": "stdout",
     "output_type": "stream",
     "text": [
      "O DET <artd>|ART|M|S|@>N det menino\n",
      "menino NOUN <np-def>|N|M|S|@SUBJ> nsubj prova\n",
      "foi VERB <mv>|V|PS|3S|IND|@FS-STA cop prova\n",
      "bem ADV <quant>|ADV|@>A advmod na\n",
      "na DET <arti>|ART|F|S|@>N case prova\n",
      "prova NOUN <np-idf>|N|F|S|@<SC ROOT prova\n",
      "difícil ADJ ADJ|F|S|@N< amod prova\n",
      "e CCONJ <co-acc>|KC|@CO cc colou\n",
      "a DET <artd>|ART|F|S|@>N det menina\n",
      "menina NOUN <np-def>|N|F|S|@SUBJ> nsubj colou\n",
      "colou VERB <mv>|V|PS|3S|IND|@FS-STA conj prova\n",
      "a DET <artd>|ART|F|S|@>N det resposta\n",
      "resposta NOUN <np-def>|N|F|S|@<ACC obj colou\n",
      "errada VERB <mv>|V|PCP|F|S|@ICL-N< acl resposta\n",
      ". PUNCT PU|@PU punct prova\n",
      "[[menino, O, menino], [menina, a, menina], [resposta, a, resposta]]\n"
     ]
    }
   ],
   "source": [
    "s = \"O menino foi bem na prova difícil e a menina colou a resposta errada.\"\n",
    "nlp = spacy.load('pt_core_news_sm')\n",
    "doc = nlp(s)\n",
    "for token in doc:\n",
    "    print(token.text, token.pos_, token.tag_, token.dep_, token.head)\n",
    "nps = get_nps(doc)\n",
    "print(nps)"
   ]
  },
  {
   "cell_type": "code",
   "execution_count": 7,
   "metadata": {},
   "outputs": [
    {
     "name": "stdout",
     "output_type": "stream",
     "text": [
      "Os DET <artd>|ART|M|P|@>N det meninos\n",
      "meninos SYM <np-def>|N|M|P|@SUBJ> nsubj foram\n",
      "foram VERB <mv>|V|PS|3P|IND|@FS-STA cop prova\n",
      "bem ADV <quant>|ADV|@<ADVL advmod na\n",
      "na DET <arti>|ART|F|S|@>N xcomp foram\n",
      "prova NOUN <np-idf>|N|F|S|@<SC ROOT prova\n",
      "e CCONJ <co-acc>|KC|@CO cc meninas\n",
      "as DET <artd>|ART|F|P|@>N det meninas\n",
      "meninas NOUN <cjt>|<np-def>|N|F|P|@P< conj prova\n",
      ". PUNCT PU|@PU punct prova\n",
      "[[meninos, Os]]\n"
     ]
    }
   ],
   "source": [
    "s = \"Os meninos foram bem na prova e as meninas.\"\n",
    "nlp = spacy.load('pt_core_news_sm')\n",
    "doc = nlp(s)\n",
    "for token in doc:\n",
    "    print(token.text, token.pos_, token.tag_, token.dep_, token.head)\n",
    "nps = get_nps(doc)\n",
    "print(nps)"
   ]
  },
  {
   "cell_type": "markdown",
   "metadata": {},
   "source": [
    "# Utilizar o córpus obtido para P1\n",
    "- Obter os núcleos (head) dos sintagmas nominais (SN)\n",
    "- Obter os modificadores do núcleo do SN\n",
    "- Para os núcleos dos sintagmas nominais, e os seus modificadores\n",
    "- Criar um dicionário:\n",
    "``` \n",
    "{\"núcleo\": [(\"modificador1\", freq), (\"modificador2\", freq)]}\n",
    "```\n",
    "- Produzir frases, com o seguinte padrão:\n",
    "```\n",
    "\"núcleo\" verbo_ser \"modificador\" mais frequente.\n",
    "```\n",
    "- o verbo ser, deve ser conjugado como \"é\" para núcleos de sintagmas nominais no singular e como \"são\" para núcleos de sintagmas nominais no plural"
   ]
  },
  {
   "cell_type": "code",
   "execution_count": null,
   "metadata": {},
   "outputs": [],
   "source": []
  }
 ],
 "metadata": {
  "kernelspec": {
   "display_name": "Python 3",
   "language": "python",
   "name": "python3"
  },
  "language_info": {
   "codemirror_mode": {
    "name": "ipython",
    "version": 3
   },
   "file_extension": ".py",
   "mimetype": "text/x-python",
   "name": "python",
   "nbconvert_exporter": "python",
   "pygments_lexer": "ipython3",
   "version": "3.5.2"
  }
 },
 "nbformat": 4,
 "nbformat_minor": 2
}
