{
 "cells": [
  {
   "cell_type": "markdown",
   "metadata": {},
   "source": [
    "# Morphosyntax"
   ]
  },
  {
   "cell_type": "code",
   "execution_count": null,
   "metadata": {},
   "outputs": [],
   "source": [
    "import nltk"
   ]
  },
  {
   "cell_type": "markdown",
   "metadata": {},
   "source": [
    "Download corpora:\n",
    "- Macmorpho\n",
    "- Floresta"
   ]
  },
  {
   "cell_type": "code",
   "execution_count": null,
   "metadata": {},
   "outputs": [],
   "source": [
    "nltk.download(\"mac_morpho\")\n",
    "nltk.download(\"floresta\")"
   ]
  },
  {
   "cell_type": "code",
   "execution_count": null,
   "metadata": {},
   "outputs": [],
   "source": [
    "from nltk.corpus import mac_morpho, floresta"
   ]
  },
  {
   "cell_type": "markdown",
   "metadata": {},
   "source": [
    "# Mac_morpho"
   ]
  },
  {
   "cell_type": "code",
   "execution_count": null,
   "metadata": {},
   "outputs": [],
   "source": [
    "tagged_sentences = []\n",
    "\n",
    "for sentence in mac_morpho.tagged_sents():\n",
    "    tagged_sentences.append(sentence)\n",
    "print(len(tagged_sentences))\n"
   ]
  },
  {
   "cell_type": "code",
   "execution_count": null,
   "metadata": {},
   "outputs": [],
   "source": [
    "mac_morpho.tagged_sents()[:20]"
   ]
  },
  {
   "cell_type": "markdown",
   "metadata": {},
   "source": [
    "# Floresta"
   ]
  },
  {
   "cell_type": "code",
   "execution_count": null,
   "metadata": {},
   "outputs": [],
   "source": [
    "tagged_sentences_f = []\n",
    "def simplify_tag_floresta(t):\n",
    "    if \"+\" in t:\n",
    "        return t[t.index(\"+\")+1:].upper()\n",
    "    else:\n",
    "        return t.upper()\n",
    "\n",
    "for sentence in floresta.tagged_sents():\n",
    "    sentence = [(text, simplify_tag_floresta(tag)) for text, tag in sentence]\n",
    "    tagged_sentences_f.append(sentence)\n",
    "print(len(tagged_sentences_f))"
   ]
  },
  {
   "cell_type": "code",
   "execution_count": null,
   "metadata": {},
   "outputs": [],
   "source": [
    "floresta.tagged_sents()[:10]"
   ]
  },
  {
   "cell_type": "code",
   "execution_count": null,
   "metadata": {},
   "outputs": [],
   "source": [
    "from collections import Counter\n",
    "\n",
    "all_tags = []\n",
    "for sent in tagged_sentences:\n",
    "    for w, t in sent:\n",
    "        all_tags.append(t)\n",
    "\n",
    "tagset_freq = Counter(all_tags)\n",
    "tagset_freq"
   ]
  },
  {
   "cell_type": "markdown",
   "metadata": {},
   "source": [
    "# Training a tagger"
   ]
  },
  {
   "cell_type": "code",
   "execution_count": null,
   "metadata": {},
   "outputs": [],
   "source": [
    "cutoff = int(.80 * len(tagged_sentences))\n",
    "#Se a quantidade de dados for muito grande, não é necessário separar tantas instâncias para teste\n",
    "\n",
    "training_sentences = tagged_sentences[:cutoff]\n",
    "test_sentences = tagged_sentences[cutoff:]\n",
    " \n",
    "print(len(training_sentences))\n",
    "print(len(test_sentences))\n",
    "\n"
   ]
  },
  {
   "cell_type": "markdown",
   "metadata": {},
   "source": [
    "# Always a noun"
   ]
  },
  {
   "cell_type": "code",
   "execution_count": null,
   "metadata": {},
   "outputs": [],
   "source": [
    "#Treinamento para definir o base line - etiquetar todas as palavras como substantivo\n",
    "tagger_default = nltk.DefaultTagger('N')\n",
    "tagger_default.evaluate(test_sentences)"
   ]
  },
  {
   "cell_type": "markdown",
   "metadata": {},
   "source": [
    "# Most frequent tag"
   ]
  },
  {
   "cell_type": "code",
   "execution_count": null,
   "metadata": {},
   "outputs": [],
   "source": [
    "#Um usando as tags obtidas baseado na maior frequência\n",
    "unigram_tagger = nltk.UnigramTagger(training_sentences, verbose=True, backoff=tagger_default)\n",
    "unigram_tagger.evaluate(test_sentences)"
   ]
  },
  {
   "cell_type": "markdown",
   "metadata": {},
   "source": [
    "# Bigram tagger"
   ]
  },
  {
   "cell_type": "code",
   "execution_count": null,
   "metadata": {},
   "outputs": [],
   "source": [
    "#Considerando uma janela de contexto com uma palavra antes e depois\n",
    "bigram_tagger = nltk.BigramTagger(training_sentences, verbose=True, backoff=unigram_tagger)\n",
    "bigram_tagger.evaluate(test_sentences)"
   ]
  },
  {
   "cell_type": "markdown",
   "metadata": {},
   "source": [
    "# Trigram tagger"
   ]
  },
  {
   "cell_type": "code",
   "execution_count": null,
   "metadata": {},
   "outputs": [],
   "source": [
    "#Tentativa de melhora frustrada, o caminho não é por aqui(aumentar o contexto não melhora o resultado)\n",
    "trigram_tagger = nltk.TrigramTagger(training_sentences, verbose=True, backoff=bigram_tagger)\n",
    "trigram_tagger.evaluate(test_sentences)"
   ]
  },
  {
   "cell_type": "markdown",
   "metadata": {},
   "source": [
    "# Tagging"
   ]
  },
  {
   "cell_type": "code",
   "execution_count": null,
   "metadata": {},
   "outputs": [],
   "source": [
    "sentence = \"Qualquer tecnologia suficientemente avançada é indistinguível de mágica.\".split()\n",
    "print(\"Default\")\n",
    "tagged_sentence = tagger_default.tag(sentence)\n",
    "print(tagged_sentence)\n",
    "print(\"Unigram\")\n",
    "tagged_sentence = unigram_tagger.tag(sentence)\n",
    "print(tagged_sentence)\n",
    "print(\"Bigram\")\n",
    "tagged_sentence = bigram_tagger.tag(sentence)\n",
    "print(tagged_sentence)\n",
    "print(\"Trigram\")\n",
    "tagged_sentence = trigram_tagger.tag(sentence)\n",
    "print(tagged_sentence)"
   ]
  },
  {
   "cell_type": "code",
   "execution_count": null,
   "metadata": {},
   "outputs": [],
   "source": [
    "import pickle"
   ]
  },
  {
   "cell_type": "code",
   "execution_count": null,
   "metadata": {},
   "outputs": [],
   "source": []
  },
  {
   "cell_type": "markdown",
   "metadata": {},
   "source": [
    "# Other corpus\n",
    "http://www.nilc.icmc.usp.br/nilc/download/corpus100.txt"
   ]
  },
  {
   "cell_type": "markdown",
   "metadata": {},
   "source": [
    "# Other taggers"
   ]
  },
  {
   "cell_type": "code",
   "execution_count": 1,
   "metadata": {},
   "outputs": [],
   "source": [
    "import spacy"
   ]
  },
  {
   "cell_type": "code",
   "execution_count": null,
   "metadata": {},
   "outputs": [],
   "source": [
    "import subprocess\n",
    "command = \"python3 -m spacy download pt_core_news_sm\".split()\n",
    "subprocess.call(command)"
   ]
  },
  {
   "cell_type": "code",
   "execution_count": 2,
   "metadata": {},
   "outputs": [
    {
     "name": "stdout",
     "output_type": "stream",
     "text": [
      "O DET <artd>|ART|M|S|@>N\n",
      "rato NOUN <np-def>|N|M|S|@SUBJ>\n",
      "comeu VERB <mv>|V|PS|3S|IND|@FS-STA\n",
      "a DET <artd>|ART|F|S|@>N\n",
      "roupa NOUN <np-def>|N|F|S|@<ACC\n",
      "do ADP PRP|@N<\n",
      "rei NOUN <np-idf>|N|M|S|@<ACC\n",
      "de ADP PRP|@N<\n",
      "roma NOUN <np-idf>|N|M|S|@P<\n"
     ]
    }
   ],
   "source": [
    "#Desinstalar o urllib3 e instalar o spacy para corrigir o erro\n",
    "nlp = spacy.load('pt_core_news_sm')\n",
    "sentence = \"O rato comeu a roupa do rei de roma\"\n",
    "doc = nlp(sentence)\n",
    "for token in doc:\n",
    "    print(token.text, token.pos_, token.tag_)"
   ]
  },
  {
   "cell_type": "code",
   "execution_count": null,
   "metadata": {},
   "outputs": [],
   "source": [
    "import nlpnet"
   ]
  },
  {
   "cell_type": "markdown",
   "metadata": {},
   "source": [
    "Download model from http://nilc.icmc.usp.br/nlpnet/data/pos-pt.tgz"
   ]
  },
  {
   "cell_type": "code",
   "execution_count": null,
   "metadata": {},
   "outputs": [],
   "source": [
    "nlpnet.set_data_dir('pos-pt/')\n",
    "sentence = \"O rato comeu a roupa do rei de roma\"\n",
    "tagger = nlpnet.POSTagger()\n",
    "tagger.tag(sentence)"
   ]
  },
  {
   "cell_type": "code",
   "execution_count": null,
   "metadata": {},
   "outputs": [],
   "source": []
  }
 ],
 "metadata": {
  "kernelspec": {
   "display_name": "Python 3",
   "language": "python",
   "name": "python3"
  },
  "language_info": {
   "codemirror_mode": {
    "name": "ipython",
    "version": 3
   },
   "file_extension": ".py",
   "mimetype": "text/x-python",
   "name": "python",
   "nbconvert_exporter": "python",
   "pygments_lexer": "ipython3",
   "version": "3.6.7"
  }
 },
 "nbformat": 4,
 "nbformat_minor": 2
}
